{
 "cells": [
  {
   "cell_type": "markdown",
   "metadata": {
    "collapsed": true
   },
   "source": [
    "# Homework01"
   ]
  },
  {
   "cell_type": "markdown",
   "metadata": {},
   "source": [
    "### Problem 1\n",
    "Using introspection as a tool to try and develop AI to model human cognitive processes is certainly an interesting idea, but I think it would fall short of the goal it tries to achieve. When we analyze our own thoughts and mental states, even if we capture a bit of what that state means it has no chance of figuring out everything about that state. Our own understanding of it will be nowhere near enough to create a comparison using a computer. Our brains are simply too complex for us to understand, and if we cannot understand them how are we to program computers to model them.\n",
    "However, I think the best application for introspection in AI would be chatbots. If we can use introspection while we are having conversation and figure out what triggers state changes in our brain: what are the differences in mental state when we make smalltalk with someone on the path versus participating in a group discussion in class? Understanding these kinds of differences in mental state would help a chatbot choose better words for certain situations."
   ]
  },
  {
   "cell_type": "markdown",
   "metadata": {},
   "source": [
    "### Problem 2\n",
    "My states are lists of the form [0, 1, 2, 3, ... ] where each element is a city. The way to transition from state to state is by swapping two cities in the ordering of the list. I keep track of the distances between the cities in a pandas Dataframe object."
   ]
  },
  {
   "cell_type": "code",
   "execution_count": null,
   "metadata": {},
   "outputs": [],
   "source": [
    "from search import Problem, hill_climbing, simulated_annealing, exp_schedule\n",
    "import random\n",
    "import pandas as pd\n",
    "import numpy as np\n",
    "from copy import deepcopy\n",
    "\n",
    "class TSP(Problem):\n",
    "\n",
    "    \"\"\"\n",
    "    The Traveling Salesman Problem\n",
    "    ------------------------------\n",
    "    To initialize the TSP object you need a dataframe using the Pandas library\n",
    "    cities = pd.DataFrame({\n",
    "        0: {1: 10, 2: 1, 3: 4},\n",
    "        1: {0: 10, 2: 5, 3: 1},\n",
    "        2: {0: 1, 1: 5, 3: 7},\n",
    "        3: {0: 4, 1: 1, 2: 7}\n",
    "    })\n",
    "    So the distance between city 0 and city 1 is 10\n",
    "    State: Current ordering of the cities\n",
    "    state = [0, 1, 2, 3]\n",
    "    \"\"\"\n",
    "\n",
    "    def __init__(self, cities):\n",
    "        self.cities = cities\n",
    "        self.initial = list(range(len(cities)))\n",
    "        self.n_cities = len(cities)\n",
    "\n",
    "    def value(self, state):\n",
    "        val = 0\n",
    "        for i in range(len(self.cities)-1):\n",
    "            # Add next city distance to result\n",
    "            val += self.cities[state[i]][state[i+1]]\n",
    "        # Last to first\n",
    "        val += self.cities[state[len(self.cities)-1]][state[0]]\n",
    "        return -val\n",
    "\n",
    "    def actions(self, state):\n",
    "        action_list = []\n",
    "        for i in range(10):\n",
    "            first = random.randint(1, self.n_cities - 1)\n",
    "            # Make sure we are not swapping the same city\n",
    "            while True:\n",
    "                second = random.randint(1, self.n_cities - 1)\n",
    "                if first != second:\n",
    "                    break\n",
    "            action_list.append([first, second])\n",
    "        return action_list\n",
    "\n",
    "    def result(self, state, action):\n",
    "        new_state = state[:]\n",
    "        new_state[action[0]], new_state[action[1]] = new_state[action[1]], new_state[action[0]]\n",
    "        return new_state\n"
   ]
  },
  {
   "cell_type": "code",
   "execution_count": null,
   "metadata": {},
   "outputs": [
    {
     "name": "stdout",
     "output_type": "stream",
     "text": [
      "Hill-climbing solution       x: [0, 81, 2, 3, 4, 5, 6, 7, 8, 60, 10, 11, 12, 13, 14, 55, 16, 17, 18, 57, 20, 21, 77, 23, 24, 25, 64, 27, 28, 1, 30, 31, 32, 33, 87, 75, 22, 37, 38, 39, 68, 41, 42, 43, 44, 45, 46, 47, 48, 49, 59, 51, 52, 53, 54, 85, 56, 19, 84, 50, 9, 61, 74, 63, 26, 65, 66, 80, 40, 69, 92, 71, 72, 73, 70, 35, 76, 36, 78, 79, 67, 29, 82, 58, 83, 15, 86, 34, 98, 89, 90, 91, 96, 93, 94, 95, 62, 97, 88, 99]\tvalue: -3363\n",
      "Simulated annealing solution x: [0, 1, 2, 28, 4, 5, 84, 7, 88, 13, 10, 29, 23, 76, 14, 58, 56, 27, 67, 54, 22, 15, 57, 83, 20, 31, 30, 61, 3, 11, 79, 69, 36, 55, 80, 51, 85, 39, 77, 68, 98, 71, 18, 47, 21, 90, 46, 12, 17, 48, 38, 41, 26, 24, 50, 63, 74, 42, 64, 82, 60, 92, 37, 89, 43, 45, 66, 99, 78, 35, 8, 44, 33, 91, 70, 72, 19, 75, 9, 16, 73, 53, 81, 97, 87, 32, 25, 62, 49, 59, 34, 86, 96, 94, 93, 6, 52, 95, 40, 65]\tvalue: -1676\n"
     ]
    }
   ],
   "source": [
    "def build_cities(n = 10):\n",
    "    \"\"\"\n",
    "    build_cities creates a symmetric pandas dataframe with distances between 1 and 100.\n",
    "    \"\"\"\n",
    "    cities = pd.DataFrame(np.zeros(shape=(n, n), dtype=np.int8))\n",
    "    for i in range(n):\n",
    "        for j in range(i, n):\n",
    "            distance = random.randint(1, 100)\n",
    "            cities[i][j] = distance\n",
    "            cities[j][i] = distance\n",
    "    return cities\n",
    "\n",
    "\n",
    "if __name__ == \"__main__\":\n",
    "    cities = build_cities(100)\n",
    "\n",
    "    tsp = TSP(cities)\n",
    "\n",
    "    hill_solution = hill_climbing(tsp)\n",
    "    print('Hill-climbing solution       x: ' + str(hill_solution)\n",
    "          + '\\tvalue: ' + str(tsp.value(hill_solution))\n",
    "          )\n",
    "\n",
    "    annealing_solution = simulated_annealing(\n",
    "        tsp,\n",
    "        exp_schedule(k=20, lam=0.005, limit=1000)\n",
    "    )\n",
    "    print('Simulated annealing solution x: ' + str(annealing_solution)\n",
    "          + '\\tvalue: ' + str(tsp.value(annealing_solution))\n",
    "          )"
   ]
  },
  {
   "cell_type": "markdown",
   "metadata": {},
   "source": [
    "We can see that the Simulated annealing solution works much better than the hill climbing solution. This is because there might be no randomly chosen actions for the hill climbing to improve the current situation, whereas the annealing solution has the ability to choose a worse path for the chance to get to an even higher value later."
   ]
  },
  {
   "cell_type": "markdown",
   "metadata": {},
   "source": [
    "### Problem 3\n"
   ]
  },
  {
   "cell_type": "code",
   "execution_count": 4,
   "metadata": {},
   "outputs": [],
   "source": [
    "from csp import CSP, parse_neighbors, min_conflicts, backtracking_search, mrv, forward_checking\n",
    "\n",
    "def Scheduler():\n",
    "\n",
    "    Courses = 'cs108 cs112 cs212 cs214 cs262 cs232 cs384'.split()\n",
    "    Professors = 'Adams VanderLinden Norman Schuurman Plantinga'.split()\n",
    "    TimeSlots = 'mwf800 mwf900 mwf1030 mwf1130'.split()\n",
    "    Classrooms = 'sb382 nh253'.split()\n",
    "\n",
    "    values = []\n",
    "    for time in TimeSlots:\n",
    "        for classroom in Classrooms:\n",
    "            for prof in Professors:\n",
    "                values.append([time, classroom, prof])\n",
    "\n",
    "    # Set up domains for each class\n",
    "    domains = {}\n",
    "    for var in Courses:\n",
    "        domains[var] = values\n",
    "\n",
    "    # Set up each class as a neighbor for the other classes\n",
    "    neighbors = {}\n",
    "    for type in [Courses]:\n",
    "        for A in type:\n",
    "            neighbors[A] = []\n",
    "    for type in [Courses]:\n",
    "        for A in type:\n",
    "            for B in type:\n",
    "                if A != B:\n",
    "                    if B not in neighbors[A]:\n",
    "                        neighbors[A].append(B)\n",
    "                    if A not in neighbors[B]:\n",
    "                        neighbors[B].append(A)\n",
    "\n",
    "    def scheduler_constraint(A, a, B, b, recurse=0):\n",
    "        prof_to_course = {\n",
    "            'cs108': \"Schuurman\",\n",
    "            'cs112': \"Adams\",\n",
    "            'cs212': \"Plantinga\",\n",
    "            'cs214': \"Adams\",\n",
    "            'cs232': \"Norman\",\n",
    "            'cs262': \"VanderLinden\",\n",
    "            'cs384': \"Schuurman\"\n",
    "        }\n",
    "        if prof_to_course[A] != a[2] or prof_to_course[B] != b[2]:  # Prof isn't teaching the right course\n",
    "            return False\n",
    "        if a[2] == b[2] and a[0] == b[0]:  # Professor is the same and TimeSlot is the same\n",
    "            return False\n",
    "        if a[1] == b[1] and a[0] == b[0]:  # Classroom is the same and TimeSlot is the same\n",
    "            return False\n",
    "        return True\n",
    "    return CSP(Courses, domains, neighbors, scheduler_constraint)"
   ]
  },
  {
   "cell_type": "markdown",
   "metadata": {},
   "source": [
    "For this problem I used the various classes as the variables and set the domain to a triple containing Professor, TimeSlot, and Classroom."
   ]
  },
  {
   "cell_type": "code",
   "execution_count": 5,
   "metadata": {},
   "outputs": [
    {
     "name": "stdout",
     "output_type": "stream",
     "text": [
      "Solution:\n",
      "\n",
      "Course: cs108\n",
      "\t mwf900\n",
      "\t sb382\n",
      "\t Schuurman\n",
      "Course: cs112\n",
      "\t mwf1130\n",
      "\t sb382\n",
      "\t Adams\n",
      "Course: cs212\n",
      "\t mwf900\n",
      "\t nh253\n",
      "\t Plantinga\n",
      "Course: cs214\n",
      "\t mwf1030\n",
      "\t sb382\n",
      "\t Adams\n",
      "Course: cs262\n",
      "\t mwf800\n",
      "\t nh253\n",
      "\t VanderLinden\n",
      "Course: cs232\n",
      "\t mwf1030\n",
      "\t nh253\n",
      "\t Norman\n",
      "Course: cs384\n",
      "\t mwf800\n",
      "\t sb382\n",
      "\t Schuurman\n"
     ]
    }
   ],
   "source": [
    "def print_solution(result):\n",
    "    \"\"\"A CSP solution printer copied from csp.py.\"\"\"\n",
    "    Courses = 'cs108 cs112 cs212 cs214 cs262 cs232 cs384'.split()\n",
    "    for course in list(Courses):\n",
    "        print('Course:', course)\n",
    "        for (var, val) in result.items():\n",
    "            if var == course:\n",
    "                for i in val: print('\\t', i)\n",
    "\n",
    "\n",
    "if __name__ == \"__main__\":\n",
    "\n",
    "    puzzle = Scheduler()\n",
    "    result = backtracking_search(puzzle, select_unassigned_variable=mrv, inference=forward_checking)\n",
    "\n",
    "    if puzzle.goal_test(puzzle.infer_assignment()):\n",
    "        print(\"Solution:\\n\")\n",
    "        print_solution(result)\n",
    "    else:\n",
    "        print(\"failed...\")\n",
    "        print(puzzle.curr_domains)\n",
    "        puzzle.display(puzzle.infer_assignment())"
   ]
  },
  {
   "cell_type": "markdown",
   "metadata": {},
   "source": [
    "We can see that every course gets its corresponding Professor and a unique TimeSlot/Classroom combination."
   ]
  }
 ],
 "metadata": {
  "kernelspec": {
   "display_name": "Python 3",
   "language": "python",
   "name": "python3"
  },
  "language_info": {
   "codemirror_mode": {
    "name": "ipython",
    "version": 3
   },
   "file_extension": ".py",
   "mimetype": "text/x-python",
   "name": "python",
   "nbconvert_exporter": "python",
   "pygments_lexer": "ipython3",
   "version": "3.5.2"
  }
 },
 "nbformat": 4,
 "nbformat_minor": 1
}
