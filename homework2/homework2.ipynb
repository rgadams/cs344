{
 "cells": [
  {
   "cell_type": "markdown",
   "metadata": {
    "collapsed": true
   },
   "source": [
    "# Homework2\n",
    "Roy Adams -- CS 352 Spring 2019"
   ]
  },
  {
   "cell_type": "markdown",
   "metadata": {},
   "source": [
    "### Problem 1"
   ]
  },
  {
   "cell_type": "code",
   "execution_count": 2,
   "metadata": {},
   "outputs": [
    {
     "name": "stdout",
     "output_type": "stream",
     "text": [
      "Hash Table of Spam/Ham Corpus: \n",
      "like 0.3333333333333333\n",
      "ham 0.1\n",
      "spamiam 0.99\n",
      "am 0.99\n",
      "i 0.5\n",
      "green 0.1\n",
      "that 0.99\n",
      "and 0.1\n",
      "not 0.99\n",
      "spam 0.99\n",
      "eggs 0.1\n",
      "do 0.3333333333333333\n"
     ]
    }
   ],
   "source": [
    "spam_corpus = [[\"i\", \"am\", \"spam\", \"spam\", \"i\", \"am\"], [\"i\", \"do\", \"not\", \"like\", \"that\", \"spamiam\"]]\n",
    "ham_corpus = [[\"do\", \"i\", \"like\", \"green\", \"eggs\", \"and\", \"ham\"], [\"i\", \"do\"]]\n",
    "combined_corpus = [\"i\", \"am\", \"spam\", \"spam\", \"i\", \"am\", \"i\", \"do\", \"not\", \"like\", \"that\", \"spamiam\", \"do\", \"i\",\n",
    "                    \"like\", \"green\", \"eggs\", \"and\", \"ham\", \"i\", \"do\"]\n",
    "combined_corpus = list(dict.fromkeys(combined_corpus))\n",
    "\n",
    "hash_spam = {}\n",
    "for i in spam_corpus:\n",
    "    for j in i:\n",
    "        if j not in hash_spam:\n",
    "            hash_spam[j] = 1\n",
    "        else:\n",
    "            hash_spam[j] += 1\n",
    "\n",
    "hash_ham = {}\n",
    "for i in ham_corpus:\n",
    "    for j in i:\n",
    "        if j not in hash_ham:\n",
    "            hash_ham[j] = 1\n",
    "        else:\n",
    "            hash_ham[j] += 1\n",
    "\n",
    "hash_prob = {}\n",
    "for i in combined_corpus:\n",
    "    g = 0;\n",
    "    b = 0;\n",
    "    if i in hash_ham:\n",
    "        g = 2 * hash_ham[i]\n",
    "    if i in hash_spam:\n",
    "        b = hash_spam[i]\n",
    "    if g + b >= 1:\n",
    "        hash_prob[i] = max(0.1,\n",
    "                           min(.99,\n",
    "                               min(1.0, b / len(spam_corpus)) /\n",
    "                               (min(1.0, b / len(spam_corpus)) + min(1.0, g / len(ham_corpus)))))\n",
    "print(\"Hash Table of Spam/Ham Corpus: \")\n",
    "for i in hash_prob:\n",
    "    print(i, hash_prob[i])"
   ]
  },
  {
   "cell_type": "code",
   "execution_count": 9,
   "metadata": {},
   "outputs": [],
   "source": [
    "# Test spam e-mail\n",
    "test_spam = [\"i\", \"like\", \"spam\", \"i\", \"do\", \"not\", \"like\", \"ham\"]\n",
    "# Test ham e-mail\n",
    "test_ham = [\"i\", \"like\", \"ham\", \"i\", \"do\", \"not\", \"love\", \"eggs\", \"though\"]\n",
    "\n",
    "\n",
    "def spam_test(message):\n",
    "    prod = 1\n",
    "    prod_complement = 1\n",
    "    for i in message:\n",
    "        if i in hash_prob:\n",
    "            prod *= hash_prob[i]\n",
    "            prod_complement *= 1 - hash_prob[i]\n",
    "        eprint(\"Spam:\", spam_test(test_spam))lse:\n",
    "            prod *= 0.4\n",
    "            prod_complement *= 0.6\n",
    "\n",
    "    prob = prod / (prod + prod_complement)\n",
    "    return prob"
   ]
  },
  {
   "cell_type": "code",
   "execution_count": 10,
   "metadata": {},
   "outputs": [
    {
     "name": "stdout",
     "output_type": "stream",
     "text": [
      "Spam: 0.9927073837739289\n"
     ]
    }
   ],
   "source": [
    "print(\"Spam:\", spam_test(test_spam))"
   ]
  },
  {
   "cell_type": "code",
   "execution_count": 11,
   "metadata": {},
   "outputs": [
    {
     "name": "stdout",
     "output_type": "stream",
     "text": [
      "Ham: 0.11956521739130425\n"
     ]
    }
   ],
   "source": [
    "print(\"Ham:\", spam_test(test_ham))"
   ]
  },
  {
   "cell_type": "markdown",
   "metadata": {},
   "source": [
    "### Problem 2"
   ]
  },
  {
   "cell_type": "code",
   "execution_count": 12,
   "metadata": {},
   "outputs": [],
   "source": [
    "from probability import BayesNet, enumeration_ask, elimination_ask\n",
    "\n",
    "# Utility variables\n",
    "T, F = True, False\n",
    "\n",
    "wet_grass = BayesNet([\n",
    "    ('Cloudy', '', 0.5),\n",
    "    ('Sprinkler', 'Cloudy', {T: 0.1, F: 0.5}),\n",
    "    ('Rain', 'Cloudy', {T: 0.8, F: 0.2}),\n",
    "    ('WetGrass', 'Sprinkler Rain', {(T, T): 0.99, (T, F): 0.9, (F, T): 0.9, (F, F): 0.0}),\n",
    "    ])\n"
   ]
  },
  {
   "cell_type": "markdown",
   "metadata": {},
   "source": [
    "The total number of independent values in this situation is 16 since there are four variables each with possible T/F values. 2^4 = 16."
   ]
  },
  {
   "cell_type": "markdown",
   "metadata": {},
   "source": [
    "The number of independent values for a Bayesian network in this domain is 9. 1 for Cloudy, 2 for both Rainy and Sprinkler, and 4 for WetGrass."
   ]
  },
  {
   "cell_type": "code",
   "execution_count": 13,
   "metadata": {},
   "outputs": [
    {
     "name": "stdout",
     "output_type": "stream",
     "text": [
      "False: 0.5, True: 0.5\n"
     ]
    }
   ],
   "source": [
    "print(enumeration_ask('Cloudy', dict(), wet_grass).show_approx())"
   ]
  },
  {
   "cell_type": "markdown",
   "metadata": {},
   "source": [
    "$P(Cloudy) = <0.5, 0.5>$ This is directly from graph.\n"
   ]
  },
  {
   "cell_type": "code",
   "execution_count": 14,
   "metadata": {},
   "outputs": [
    {
     "name": "stdout",
     "output_type": "stream",
     "text": [
      "False: 0.9, True: 0.1\n"
     ]
    }
   ],
   "source": [
    "print(enumeration_ask('Sprinkler', dict(Cloudy=T), wet_grass).show_approx())"
   ]
  },
  {
   "cell_type": "markdown",
   "metadata": {},
   "source": [
    "$P(Sprinkler|Cloudy) = <0.1, 0.9>$ This is directly from graph.\n"
   ]
  },
  {
   "cell_type": "code",
   "execution_count": 15,
   "metadata": {},
   "outputs": [
    {
     "name": "stdout",
     "output_type": "stream",
     "text": [
      "False: 0.952, True: 0.0476\n"
     ]
    }
   ],
   "source": [
    "print(enumeration_ask('Cloudy', dict(Sprinkler=T, Rain=F), wet_grass).show_approx())"
   ]
  },
  {
   "cell_type": "markdown",
   "metadata": {},
   "source": [
    "$P(Cloudy|Sprinkler, -Rain)$  \n",
    "$= a \\cdot P(Sprinkler, -Rain|Cloudy) \\cdot P(Cloudy)$  \n",
    "$= a \\cdot <0.1 \\cdot 0.2 \\cdot 0.5, 0.5 \\cdot 0.8 \\cdot 0.5> = <0.0476, 0.9524>$"
   ]
  },
  {
   "cell_type": "code",
   "execution_count": 16,
   "metadata": {},
   "outputs": [
    {
     "name": "stdout",
     "output_type": "stream",
     "text": [
      "False: 0.01, True: 0.99\n"
     ]
    }
   ],
   "source": [
    "print(enumeration_ask('WetGrass', dict(Cloudy=T, Sprinkler=T, Rain=T), wet_grass).show_approx())"
   ]
  },
  {
   "cell_type": "markdown",
   "metadata": {},
   "source": [
    "$P(WetGrass|Cloudy, Sprinkler, Rain) = <0.99, 0.01>$ This is directly from graph."
   ]
  },
  {
   "cell_type": "code",
   "execution_count": 17,
   "metadata": {},
   "outputs": [
    {
     "name": "stdout",
     "output_type": "stream",
     "text": [
      "False: 0.639, True: 0.361\n"
     ]
    }
   ],
   "source": [
    "print(enumeration_ask('Cloudy', dict(WetGrass=F), wet_grass).show_approx())"
   ]
  },
  {
   "cell_type": "markdown",
   "metadata": {},
   "source": [
    "$P(Cloudy|-WetGrass) = a * P(-WetGrass|Cloudy) * P(Cloudy)$  \n",
    "$ = a * [P(-WetGrass|Sprinkler, Rain) * P(Sprinkler|Cloudy) * P(Rain|Cloudy)$  \n",
    "$\\> + P(-WetGrass|Sprinkler, -Rain) * P(Sprinkler|Cloudy) * P(-Rain|Cloudy)$  \n",
    "$\\> + P(-WetGrass|-Sprinkler, Rain) * P(-Sprinkler|Cloudy) * P(Rain|Cloudy)$  \n",
    "$\\> + P(-WetGrass|-Sprinkler, -Rain) * P(-Sprinkler|Cloudy) * P(-Rain|Cloudy)] * P(Cloudy)$  \n",
    "$ = a * <[0.01 * 0.1 * 0.8 + 0.9 * 0.1 * 0.2 + 0.9 * 0.9 * 0.8 + 0.0 * 0.9 * 0.2] * 0.5,$  \n",
    "$<[0.01 * 0.5 * 0.2 + 0.9 * 0.5 * 0.8 + 0.9 * 0.5 * 0.2 + 0.0 * 0.5 * 0.8] * 0.5> = <0.639, 0.361>$"
   ]
  }
 ],
 "metadata": {
  "kernelspec": {
   "display_name": "Python 3",
   "language": "python",
   "name": "python3"
  },
  "language_info": {
   "codemirror_mode": {
    "name": "ipython",
    "version": 3
   },
   "file_extension": ".py",
   "mimetype": "text/x-python",
   "name": "python",
   "nbconvert_exporter": "python",
   "pygments_lexer": "ipython3",
   "version": "3.5.2"
  }
 },
 "nbformat": 4,
 "nbformat_minor": 1
}
