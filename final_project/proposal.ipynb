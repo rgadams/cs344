{
 "cells": [
  {
   "cell_type": "markdown",
   "metadata": {
    "collapsed": true,
    "pycharm": {
     "is_executing": false
    }
   },
   "source": [
    "# Final Project Proposal"
   ]
  },
  {
   "cell_type": "markdown",
   "metadata": {},
   "source": [
    "The project I am proposing for my final project in CS344 is called Dota 2 Last Pick. Dota 2 is a video game in which two teams of 5 players compete against one another. Each player chooses a hero from a pool of 117 options. My goal is to create a system using a Deep Neural Network that suggests a few hero options to pick for the last player. Some heroes have abilities that directly counter other heroes.  \n",
    "The project will include four parts. First, I will need to acquire lots of match data. I can accomplish this task by using the OpenDota API (https://docs.opendota.com/#section/Introduction). This will allow me to collect lots of examples of matches played. The data from this API comes in a JSON format with lots of extra data I will likely not use. Second, I will perform feature engineering on the data and format the data so it can be fed into a neural network. I will try and keep it simple by creating a 117 entry vector for each team that represents which heroes were present on each team. This will be the input to the neural network and the output of the network will be whichever team that won the game. Third, I will create a neural network architecture that can handle the features I choose and output which team won the match. The input to this network will be of length 117 * 2 and the output will be a single bit. Finally, I will train and test the model using the data I collected.  \n",
    "The application of this network could be used to predict which hero should be picked when there are 9 other heroes already picked. For each hero left in the pool we could make a prediction as to how probable a win would be given we picked that hero. From there we could take the top 5 probabilities as suggestions for which hero to actually pick.\n"
   ]
  }
 ],
 "metadata": {
  "kernelspec": {
   "display_name": "Python 3",
   "language": "python",
   "name": "python3"
  },
  "language_info": {
   "codemirror_mode": {
    "name": "ipython",
    "version": 3
   },
   "file_extension": ".py",
   "mimetype": "text/x-python",
   "name": "python",
   "nbconvert_exporter": "python",
   "pygments_lexer": "ipython3",
   "version": "3.5.2"
  }
 },
 "nbformat": 4,
 "nbformat_minor": 1
}
